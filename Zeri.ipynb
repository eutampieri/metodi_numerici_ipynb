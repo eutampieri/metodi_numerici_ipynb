{
 "cells": [
  {
   "cell_type": "markdown",
   "id": "38d1fbda",
   "metadata": {},
   "source": [
    "# Zeri di funzione\n",
    "\n",
    "Si vuole trovare lo zero di $y=x^4-3x^3+x^2-1$"
   ]
  },
  {
   "cell_type": "code",
   "execution_count": 1,
   "id": "05005b89",
   "metadata": {},
   "outputs": [],
   "source": [
    "def y(x):\n",
    "    return x**4 - 3*x**3 + x**2 - 1"
   ]
  },
  {
   "cell_type": "code",
   "execution_count": 2,
   "id": "18caf89b",
   "metadata": {},
   "outputs": [
    {
     "data": {
      "text/plain": [
       "[<matplotlib.lines.Line2D at 0x7ff8d67c9a60>]"
      ]
     },
     "execution_count": 2,
     "metadata": {},
     "output_type": "execute_result"
    },
    {
     "data": {
      "image/png": "[encoded data removed]",
      "text/plain": [
       "<Figure size 432x288 with 1 Axes>"
      ]
     },
     "metadata": {
      "needs_background": "light"
     },
     "output_type": "display_data"
    }
   ],
   "source": [
    "from matplotlib import pyplot as plt\n",
    "import numpy as np\n",
    "%matplotlib inline\n",
    "x = np.arange(-2.0, 3.0, 0.05).ravel()\n",
    "y_vals = np.vectorize(y)(x)\n",
    "fig = plt.figure()\n",
    "ax = fig.add_axes([1,1,1,1])\n",
    "ax.plot(x,y_vals)\n",
    "ax.plot(x,np.zeros(len(x)))"
   ]
  },
  {
   "cell_type": "markdown",
   "id": "4a122bec",
   "metadata": {},
   "source": [
    "Notiamo che è presente uno zero fra 2 e 3:"
   ]
  },
  {
   "cell_type": "code",
   "execution_count": 3,
   "id": "1bd41e0e",
   "metadata": {},
   "outputs": [],
   "source": [
    "RANGE = [1,3]\n",
    "TOL = 2 * np.spacing((float(RANGE[0]) + float(RANGE[1]))/2)"
   ]
  },
  {
   "cell_type": "markdown",
   "id": "e4b737ea",
   "metadata": {},
   "source": [
    "## Metodo di bisezione"
   ]
  },
  {
   "cell_type": "code",
   "execution_count": 4,
   "id": "f1f14e22",
   "metadata": {},
   "outputs": [
    {
     "name": "stdout",
     "output_type": "stream",
     "text": [
      "CPU times: user 7 µs, sys: 1 µs, total: 8 µs\n",
      "Wall time: 44.6 µs\n"
     ]
    },
    {
     "data": {
      "text/plain": [
       "(2.6787124756874983, -1.7763568394002505e-15)"
      ]
     },
     "execution_count": 4,
     "metadata": {},
     "output_type": "execute_result"
    }
   ],
   "source": [
    "%time\n",
    "def bisection(func, start, stop, tol):\n",
    "    middle = 0.0\n",
    "    while func(start) * func(stop) < 0:\n",
    "        middle = (start + stop) / 2\n",
    "        if func(middle) * func(start) > 0:\n",
    "            start = middle\n",
    "        else:\n",
    "            stop = middle\n",
    "        if abs(stop - start) <= TOL:\n",
    "            break\n",
    "    return middle\n",
    "\n",
    "bisection_result = bisection(y, RANGE[0], RANGE[1], TOL)\n",
    "(bisection_result, y(bisection_result))"
   ]
  },
  {
   "cell_type": "markdown",
   "id": "2ca2eb62",
   "metadata": {},
   "source": [
    "## Metodo di falsa posizione"
   ]
  },
  {
   "cell_type": "code",
   "execution_count": 5,
   "id": "5c6809d2",
   "metadata": {},
   "outputs": [
    {
     "name": "stdout",
     "output_type": "stream",
     "text": [
      "CPU times: user 3 µs, sys: 1 µs, total: 4 µs\n",
      "Wall time: 9.06 µs\n"
     ]
    },
    {
     "data": {
      "text/plain": [
       "(2.678712475687498, -1.1546319456101628e-14)"
      ]
     },
     "execution_count": 5,
     "metadata": {},
     "output_type": "execute_result"
    }
   ],
   "source": [
    "%time\n",
    "def regula_falsi(f, start, stop, tol):\n",
    "    old_x = stop\n",
    "    x = start\n",
    "    while abs(x-old_x) / abs(x) > tol:\n",
    "        old_x = x\n",
    "        x = start - f(start) * (stop - start) / (f(stop) - f(start))\n",
    "        if f(x) * f(start) < 0:\n",
    "            stop = x\n",
    "        else:\n",
    "            start = x\n",
    "    return x\n",
    "\n",
    "rf_result = regula_falsi(y, RANGE[0], RANGE[1], TOL)\n",
    "(rf_result, y(rf_result))"
   ]
  },
  {
   "cell_type": "markdown",
   "id": "ce863344",
   "metadata": {},
   "source": [
    "## Metodo delle corde\n",
    "Abbiamo bisogno della derivata prima $y'(x)$ di $y = f(x)$.\n",
    "\n",
    "$y'(x)$ = 4 x^3 - 9x^2 + 2x $"
   ]
  },
  {
   "cell_type": "code",
   "execution_count": 6,
   "id": "42a91245",
   "metadata": {},
   "outputs": [
    {
     "data": {
      "text/plain": [
       "[<matplotlib.lines.Line2D at 0x7ff8d66ceee0>]"
      ]
     },
     "execution_count": 6,
     "metadata": {},
     "output_type": "execute_result"
    },
    {
     "data": {
      "image/png": "[encoded data removed]",
      "text/plain": [
       "<Figure size 432x288 with 1 Axes>"
      ]
     },
     "metadata": {
      "needs_background": "light"
     },
     "output_type": "display_data"
    }
   ],
   "source": [
    "def dy_over_dx(x):\n",
    "    return 4*x**3 - 9*x**2 + 2*x\n",
    "\n",
    "%matplotlib inline\n",
    "x = np.arange(-2.0, 3.0, 0.05).ravel()\n",
    "y_vals_der = np.vectorize(dy_over_dx)(x)\n",
    "fig = plt.figure()\n",
    "ax = fig.add_axes([1,1,1,1])\n",
    "ax.plot(x,y_vals)\n",
    "ax.plot(x,y_vals_der)\n",
    "ax.plot(x,np.zeros(len(x)))"
   ]
  },
  {
   "cell_type": "code",
   "execution_count": 7,
   "id": "b26e00cf",
   "metadata": {},
   "outputs": [
    {
     "data": {
      "text/plain": [
       "(-0.572891505126815, 4.285460875053104e-14)"
      ]
     },
     "execution_count": 7,
     "metadata": {},
     "output_type": "execute_result"
    }
   ],
   "source": [
    "def corde(f, df, start, tol):\n",
    "    m = df(start)\n",
    "    x = start\n",
    "    old_x = start * 10\n",
    "    while abs(x-old_x) / abs(x) > tol:\n",
    "        old_x = x\n",
    "        x = x-f(x)/m\n",
    "    return x\n",
    "\n",
    "corde_result = corde(y, dy_over_dx, -2.2, TOL)\n",
    "(corde_result, y(corde_result))"
   ]
  }
 ],
 "metadata": {
  "kernelspec": {
   "display_name": "Python 3 (ipykernel)",
   "language": "python",
   "name": "python3"
  },
  "language_info": {
   "codemirror_mode": {
    "name": "ipython",
    "version": 3
   },
   "file_extension": ".py",
   "mimetype": "text/x-python",
   "name": "python",
   "nbconvert_exporter": "python",
   "pygments_lexer": "ipython3",
   "version": "3.8.10"
  }
 },
 "nbformat": 4,
 "nbformat_minor": 5
}
