{
 "cells": [
  {
   "cell_type": "markdown",
   "id": "38d1fbda",
   "metadata": {},
   "source": [
    "# Zeri di funzione\n",
    "\n",
    "Si vuole trovare lo zero di $y=x^4-3x^3+x^2-1$"
   ]
  },
  {
   "cell_type": "code",
   "execution_count": 1,
   "id": "05005b89",
   "metadata": {},
   "outputs": [],
   "source": [
    "def y(x):\n",
    "    return x**4 - 3*x**3 + x**2 - 1"
   ]
  },
  {
   "cell_type": "code",
   "execution_count": 2,
   "id": "18caf89b",
   "metadata": {},
   "outputs": [
    {
     "name": "stdout",
     "output_type": "stream",
     "text": [
      "<class 'numpy.ndarray'>\n"
     ]
    },
    {
     "data": {
      "text/plain": [
       "[<matplotlib.lines.Line2D at 0x7f0d0ce82d60>]"
      ]
     },
     "execution_count": 2,
     "metadata": {},
     "output_type": "execute_result"
    },
    {
     "data": {
      "image/png": "[encoded data removed]",
      "text/plain": [
       "<Figure size 432x288 with 1 Axes>"
      ]
     },
     "metadata": {
      "needs_background": "light"
     },
     "output_type": "display_data"
    }
   ],
   "source": [
    "from matplotlib import pyplot as plt\n",
    "import numpy as np\n",
    "%matplotlib inline\n",
    "x = np.arange(-2.0, 3.0, 0.05).ravel()\n",
    "y_vals = np.vectorize(y)(x)\n",
    "fig = plt.figure()\n",
    "ax = fig.add_axes([1,1,1,1])\n",
    "ax.plot(x,y_vals)\n",
    "ax.plot(x,np.zeros(len(x)))"
   ]
  },
  {
   "cell_type": "markdown",
   "id": "4a122bec",
   "metadata": {},
   "source": [
    "Notiamo che è presente uno zero fra 2 e 3:"
   ]
  },
  {
   "cell_type": "code",
   "execution_count": 3,
   "id": "1bd41e0e",
   "metadata": {},
   "outputs": [],
   "source": [
    "RANGE = [1,3]\n",
    "TOL = 2 * np.spacing((float(RANGE[0]) + float(RANGE[1]))/2)"
   ]
  },
  {
   "cell_type": "markdown",
   "id": "b77e9ddf",
   "metadata": {},
   "source": [
    "## Metodo di bisezione"
   ]
  },
  {
   "cell_type": "code",
   "execution_count": 4,
   "id": "f1f14e22",
   "metadata": {},
   "outputs": [
    {
     "name": "stdout",
     "output_type": "stream",
     "text": [
      "CPU times: user 3 µs, sys: 1 µs, total: 4 µs\n",
      "Wall time: 9.06 µs\n"
     ]
    },
    {
     "data": {
      "text/plain": [
       "(2.6787124756874983, -1.7763568394002505e-15)"
      ]
     },
     "execution_count": 4,
     "metadata": {},
     "output_type": "execute_result"
    }
   ],
   "source": [
    "%time\n",
    "def bisection(func, start, stop, tol):\n",
    "    middle = 0.0\n",
    "    while func(start) * func(stop) < 0:\n",
    "        middle = (start + stop) / 2\n",
    "        if func(middle) * func(start) > 0:\n",
    "            start = middle\n",
    "        else:\n",
    "            stop = middle\n",
    "        if abs(stop - start) <= TOL:\n",
    "            break\n",
    "    return middle\n",
    "\n",
    "bisection_result = bisection(y, RANGE[0], RANGE[1], TOL)\n",
    "(bisection_result, y(bisection_result))"
   ]
  },
  {
   "cell_type": "markdown",
   "id": "fb2f84a4",
   "metadata": {},
   "source": [
    "## Metodo di falsa posizione"
   ]
  },
  {
   "cell_type": "code",
   "execution_count": 5,
   "id": "a270c947",
   "metadata": {},
   "outputs": [
    {
     "name": "stdout",
     "output_type": "stream",
     "text": [
      "CPU times: user 4 µs, sys: 0 ns, total: 4 µs\n",
      "Wall time: 8.58 µs\n"
     ]
    },
    {
     "data": {
      "text/plain": [
       "(2.678712475687498, -1.1546319456101628e-14)"
      ]
     },
     "execution_count": 5,
     "metadata": {},
     "output_type": "execute_result"
    }
   ],
   "source": [
    "%time\n",
    "def regula_falsi(f, start, stop, tol):\n",
    "    old_x = stop\n",
    "    x = start\n",
    "    while abs(x-old_x) / abs(x) > tol:\n",
    "        old_x = x\n",
    "        x = start - f(start) * (stop - start) / (f(stop) - f(start))\n",
    "        if f(x) * f(start) < 0:\n",
    "            stop = x\n",
    "        else:\n",
    "            start = x\n",
    "    return x\n",
    "\n",
    "rf_result = regula_falsi(y, RANGE[0], RANGE[1], TOL)\n",
    "(rf_result, y(rf_result))"
   ]
  },
  {
   "cell_type": "markdown",
   "id": "a5f1ee04",
   "metadata": {},
   "source": [
    "## Metodo delle corde\n",
    "Abbiamo bisogno della derivata prima $y'(x)$ di $y = f(x)$.\n",
    "𝑦=𝑥4−3𝑥3+𝑥2−1\n",
    "\n",
    "$y'(x)$ = 1/4 x^3 - x^2 + 1/2x $"
   ]
  },
  {
   "cell_type": "code",
   "execution_count": 18,
   "id": "99443a97",
   "metadata": {},
   "outputs": [
    {
     "data": {
      "text/plain": [
       "[<matplotlib.lines.Line2D at 0x7f0d0ac8ebb0>]"
      ]
     },
     "execution_count": 18,
     "metadata": {},
     "output_type": "execute_result"
    },
    {
     "data": {
      "image/png": "[encoded data removed]",
      "text/plain": [
       "<Figure size 432x288 with 1 Axes>"
      ]
     },
     "metadata": {
      "needs_background": "light"
     },
     "output_type": "display_data"
    }
   ],
   "source": [
    "def dy_over_dx(x):\n",
    "    return 0.25*x**3 - x**2 + 0.5*x\n",
    "\n",
    "%matplotlib inline\n",
    "x = np.arange(-2.0, 3.0, 0.05).ravel()\n",
    "y_vals_der = np.vectorize(dy_over_dx)(x)\n",
    "fig = plt.figure()\n",
    "ax = fig.add_axes([1,1,1,1])\n",
    "ax.plot(x,y_vals)\n",
    "ax.plot(x,y_vals_der)\n",
    "ax.plot(x,np.zeros(len(x)))"
   ]
  },
  {
   "cell_type": "code",
   "execution_count": 17,
   "id": "12d20501",
   "metadata": {},
   "outputs": [
    {
     "name": "stdout",
     "output_type": "stream",
     "text": [
      "0.5 0.03125\n",
      "34.5 0.03125\n",
      "-41430155.5 0.03125\n",
      "-9.42792812858422e+31 0.03125\n",
      "-2.5282209795401096e+129 0.03125\n"
     ]
    },
    {
     "ename": "OverflowError",
     "evalue": "(34, 'Numerical result out of range')",
     "output_type": "error",
     "traceback": [
      "\u001b[0;31m---------------------------------------------------------------------------\u001b[0m",
      "\u001b[0;31mOverflowError\u001b[0m                             Traceback (most recent call last)",
      "\u001b[0;32m/tmp/ipykernel_3443/104626779.py\u001b[0m in \u001b[0;36m<module>\u001b[0;34m\u001b[0m\n\u001b[1;32m      9\u001b[0m     \u001b[0;32mreturn\u001b[0m \u001b[0mx\u001b[0m\u001b[0;34m\u001b[0m\u001b[0;34m\u001b[0m\u001b[0m\n\u001b[1;32m     10\u001b[0m \u001b[0;34m\u001b[0m\u001b[0m\n\u001b[0;32m---> 11\u001b[0;31m \u001b[0mcorde_result\u001b[0m \u001b[0;34m=\u001b[0m \u001b[0mcorde\u001b[0m\u001b[0;34m(\u001b[0m\u001b[0my\u001b[0m\u001b[0;34m,\u001b[0m \u001b[0mdy_over_dx\u001b[0m\u001b[0;34m,\u001b[0m \u001b[0;36m0.5\u001b[0m\u001b[0;34m,\u001b[0m \u001b[0mTOL\u001b[0m\u001b[0;34m)\u001b[0m\u001b[0;34m\u001b[0m\u001b[0;34m\u001b[0m\u001b[0m\n\u001b[0m\u001b[1;32m     12\u001b[0m \u001b[0;34m(\u001b[0m\u001b[0mcorde_result\u001b[0m\u001b[0;34m,\u001b[0m \u001b[0my\u001b[0m\u001b[0;34m(\u001b[0m\u001b[0mcorde_result\u001b[0m\u001b[0;34m)\u001b[0m\u001b[0;34m)\u001b[0m\u001b[0;34m\u001b[0m\u001b[0;34m\u001b[0m\u001b[0m\n",
      "\u001b[0;32m/tmp/ipykernel_3443/104626779.py\u001b[0m in \u001b[0;36mcorde\u001b[0;34m(f, df, start, tol)\u001b[0m\n\u001b[1;32m      6\u001b[0m         \u001b[0mprint\u001b[0m\u001b[0;34m(\u001b[0m\u001b[0mx\u001b[0m\u001b[0;34m,\u001b[0m \u001b[0mm\u001b[0m\u001b[0;34m)\u001b[0m\u001b[0;34m\u001b[0m\u001b[0;34m\u001b[0m\u001b[0m\n\u001b[1;32m      7\u001b[0m         \u001b[0mold_x\u001b[0m \u001b[0;34m=\u001b[0m \u001b[0mx\u001b[0m\u001b[0;34m\u001b[0m\u001b[0;34m\u001b[0m\u001b[0m\n\u001b[0;32m----> 8\u001b[0;31m         \u001b[0mx\u001b[0m \u001b[0;34m=\u001b[0m \u001b[0mx\u001b[0m\u001b[0;34m-\u001b[0m\u001b[0mf\u001b[0m\u001b[0;34m(\u001b[0m\u001b[0mx\u001b[0m\u001b[0;34m)\u001b[0m\u001b[0;34m/\u001b[0m\u001b[0mm\u001b[0m\u001b[0;34m\u001b[0m\u001b[0;34m\u001b[0m\u001b[0m\n\u001b[0m\u001b[1;32m      9\u001b[0m     \u001b[0;32mreturn\u001b[0m \u001b[0mx\u001b[0m\u001b[0;34m\u001b[0m\u001b[0;34m\u001b[0m\u001b[0m\n\u001b[1;32m     10\u001b[0m \u001b[0;34m\u001b[0m\u001b[0m\n",
      "\u001b[0;32m/tmp/ipykernel_3443/235425197.py\u001b[0m in \u001b[0;36my\u001b[0;34m(x)\u001b[0m\n\u001b[1;32m      1\u001b[0m \u001b[0;32mdef\u001b[0m \u001b[0my\u001b[0m\u001b[0;34m(\u001b[0m\u001b[0mx\u001b[0m\u001b[0;34m)\u001b[0m\u001b[0;34m:\u001b[0m\u001b[0;34m\u001b[0m\u001b[0;34m\u001b[0m\u001b[0m\n\u001b[0;32m----> 2\u001b[0;31m     \u001b[0;32mreturn\u001b[0m \u001b[0mx\u001b[0m\u001b[0;34m**\u001b[0m\u001b[0;36m4\u001b[0m \u001b[0;34m-\u001b[0m \u001b[0;36m3\u001b[0m\u001b[0;34m*\u001b[0m\u001b[0mx\u001b[0m\u001b[0;34m**\u001b[0m\u001b[0;36m3\u001b[0m \u001b[0;34m+\u001b[0m \u001b[0mx\u001b[0m\u001b[0;34m**\u001b[0m\u001b[0;36m2\u001b[0m \u001b[0;34m-\u001b[0m \u001b[0;36m1\u001b[0m\u001b[0;34m\u001b[0m\u001b[0;34m\u001b[0m\u001b[0m\n\u001b[0m",
      "\u001b[0;31mOverflowError\u001b[0m: (34, 'Numerical result out of range')"
     ]
    }
   ],
   "source": [
    "def corde(f, df, start, tol):\n",
    "    m = df(start)\n",
    "    x = start\n",
    "    old_x = start * 10\n",
    "    while abs(x-old_x) / abs(x) > tol:\n",
    "        print(x, m)\n",
    "        old_x = x\n",
    "        x = x-f(x)/m\n",
    "    return x\n",
    "\n",
    "corde_result = corde(y, dy_over_dx, 0.5, TOL)\n",
    "(corde_result, y(corde_result))"
   ]
  }
 ],
 "metadata": {
  "kernelspec": {
   "display_name": "Python 3 (ipykernel)",
   "language": "python",
   "name": "python3"
  },
  "language_info": {
   "codemirror_mode": {
    "name": "ipython",
    "version": 3
   },
   "file_extension": ".py",
   "mimetype": "text/x-python",
   "name": "python",
   "nbconvert_exporter": "python",
   "pygments_lexer": "ipython3",
   "version": "3.8.10"
  }
 },
 "nbformat": 4,
 "nbformat_minor": 5
}
